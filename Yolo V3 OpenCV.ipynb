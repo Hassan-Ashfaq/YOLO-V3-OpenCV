{
 "cells": [
  {
   "cell_type": "code",
   "execution_count": null,
   "id": "65de4e6f",
   "metadata": {},
   "outputs": [],
   "source": [
    "import cv2\n",
    "import numpy as np"
   ]
  },
  {
   "cell_type": "code",
   "execution_count": null,
   "id": "2d657f43",
   "metadata": {
    "scrolled": true
   },
   "outputs": [],
   "source": [
    "classesFile = 'coco.names'\n",
    "file = open(classesFile, 'r')\n",
    "classesNames = file.read().split('\\n')\n",
    "\n",
    "print('No. of Classes: ', len(classesNames), '\\n')\n",
    "print(classesNames)"
   ]
  },
  {
   "cell_type": "code",
   "execution_count": null,
   "id": "421562de",
   "metadata": {},
   "outputs": [],
   "source": [
    "cam = cv2.VideoCapture(0)\n",
    "\n",
    "modelConfig = 'yolov3-320.cfg'\n",
    "modelWeights = 'yolov3-320.weights'\n",
    "\n",
    "model = cv2.dnn.readNetFromDarknet(modelConfig, modelWeights)\n",
    "model.setPreferableBackend(cv2.dnn.DNN_BACKEND_OPENCV)\n",
    "model.setPreferableTarget(cv2.dnn.DNN_TARGET_CPU)"
   ]
  },
  {
   "cell_type": "code",
   "execution_count": null,
   "id": "ded42011",
   "metadata": {},
   "outputs": [],
   "source": [
    "def findObject(Outputs, Img):\n",
    "    hT, wT, cT = Img.shape\n",
    "    \n",
    "    bbox = []\n",
    "    classIds = []\n",
    "    confs = []\n",
    "    \n",
    "    for output in Outputs:\n",
    "        for det in output:\n",
    "            score = det[5:]\n",
    "            classId = np.argmax(score)\n",
    "            confidence = score[classId]\n",
    "            if confidence > 0.5:\n",
    "                w, h = int(det[2]*wT), int(det[2]*hT)\n",
    "                x, y = int((det[0]*wT)-w/2), int((det[1]*hT)-h/2)\n",
    "                bbox.append([x,y,w,h])\n",
    "                classIds.append(classId)\n",
    "                confs.append(float(confidence))\n",
    "#     print(len(bbox))\n",
    "#     print(bbox)\n",
    "    indices = cv2.dnn.NMSBoxes(bbox, confs, 0.5, 0.3)\n",
    "    for i in indices:\n",
    "        box = bbox[i]\n",
    "        x,y,w,h = box[0], box[1], box[2], box[3]\n",
    "        cv2.rectangle(img, (x,y), (x+w, y+h), (255, 0, 255), 2)\n",
    "        cv2.putText(img, f'{classesNames[classIds[i]].upper() } {int(confs[i]*100)}%', \n",
    "                   (x, y-10), cv2.FONT_HERSHEY_SIMPLEX, 0.6, (255, 0, 255), 2)\n",
    "        \n",
    "    cv2.imwrite('Det.jpg', img)"
   ]
  },
  {
   "cell_type": "code",
   "execution_count": null,
   "id": "e511adfe",
   "metadata": {
    "scrolled": true
   },
   "outputs": [],
   "source": [
    "while True:\n",
    "    success, img = cam.read()\n",
    "    \n",
    "    blob = cv2.dnn.blobFromImage(img, 1/255, (320, 320), [0,0,0], 1, crop=False)\n",
    "    model.setInput(blob)\n",
    "    \n",
    "    LayersName = model.getLayerNames()\n",
    "    outputLayer = [LayersName[i-1] for i in model.getUnconnectedOutLayers()]\n",
    "    \n",
    "    output = model.forward(outputLayer)\n",
    "    findObject(output, img)\n",
    "    \n",
    "#     print(len(output))\n",
    "#     for i  in output:\n",
    "#         print(i.shape)\n",
    "\n",
    "    cv2.imshow('Image', img)\n",
    "    cv2.waitKey(1)"
   ]
  },
  {
   "cell_type": "code",
   "execution_count": null,
   "id": "0e212363",
   "metadata": {},
   "outputs": [],
   "source": []
  }
 ],
 "metadata": {
  "kernelspec": {
   "display_name": "Python 3",
   "language": "python",
   "name": "python3"
  },
  "language_info": {
   "codemirror_mode": {
    "name": "ipython",
    "version": 3
   },
   "file_extension": ".py",
   "mimetype": "text/x-python",
   "name": "python",
   "nbconvert_exporter": "python",
   "pygments_lexer": "ipython3",
   "version": "3.8.8"
  }
 },
 "nbformat": 4,
 "nbformat_minor": 5
}
